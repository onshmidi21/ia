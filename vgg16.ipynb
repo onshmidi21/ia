{
  "cells": [
    {
      "cell_type": "markdown",
      "metadata": {
        "id": "view-in-github",
        "colab_type": "text"
      },
      "source": [
        "<a href=\"https://colab.research.google.com/github/onshmidi21/ia/blob/main/vgg16.ipynb\" target=\"_parent\"><img src=\"https://colab.research.google.com/assets/colab-badge.svg\" alt=\"Open In Colab\"/></a>"
      ]
    },
    {
      "cell_type": "code",
      "execution_count": 1,
      "metadata": {
        "id": "277qBg4IPsxz"
      },
      "outputs": [],
      "source": [
        "import torch\n",
        "import torch.nn as nn\n",
        "import torchvision\n",
        "import torchvision.transforms as transforms\n"
      ]
    },
    {
      "cell_type": "code",
      "execution_count": 2,
      "metadata": {
        "id": "uUyxUkM4Pw2m"
      },
      "outputs": [],
      "source": [
        "# Utiliser le GPU si disponible\n",
        "device = torch.device(\"cuda:0\" if torch.cuda.is_available() else \"cpu\")\n"
      ]
    },
    {
      "cell_type": "code",
      "execution_count": 3,
      "metadata": {
        "id": "7wGxRxGKPyN1"
      },
      "outputs": [],
      "source": [
        "# Redimensionnement à 224x224 (taille attendue par VGG16) et normalisation\n",
        "transform = transforms.Compose([\n",
        "    transforms.Resize((224, 224)),\n",
        "    transforms.ToTensor(),\n",
        "    transforms.Normalize((0.5, 0.5, 0.5), (0.5, 0.5, 0.5))\n",
        "])\n"
      ]
    },
    {
      "cell_type": "code",
      "execution_count": 4,
      "metadata": {
        "id": "doF15nNjP2V0",
        "colab": {
          "base_uri": "https://localhost:8080/"
        },
        "outputId": "51f2b6f7-ed3a-438f-902f-0b21ee4f718a"
      },
      "outputs": [
        {
          "output_type": "stream",
          "name": "stderr",
          "text": [
            "100%|██████████| 169M/169M [00:03<00:00, 46.3MB/s]\n"
          ]
        }
      ],
      "source": [
        "# Datasets CIFAR-100\n",
        "train_dataset = torchvision.datasets.CIFAR100(root='./data', train=True, download=True, transform=transform)\n",
        "test_dataset = torchvision.datasets.CIFAR100(root='./data', train=False, download=True, transform=transform)\n"
      ]
    },
    {
      "cell_type": "code",
      "execution_count": 5,
      "metadata": {
        "id": "7fs6xOBdRKN9"
      },
      "outputs": [],
      "source": [
        "train_loader = torch.utils.data.DataLoader(train_dataset, batch_size=64, shuffle=True)\n",
        "test_loader = torch.utils.data.DataLoader(test_dataset, batch_size=64, shuffle=False)\n"
      ]
    },
    {
      "cell_type": "code",
      "execution_count": 6,
      "metadata": {
        "colab": {
          "base_uri": "https://localhost:8080/"
        },
        "id": "6ZYv4-HSRPSl",
        "outputId": "b140b285-929f-4086-9257-8e59486f402a"
      },
      "outputs": [
        {
          "output_type": "stream",
          "name": "stderr",
          "text": [
            "/usr/local/lib/python3.11/dist-packages/torchvision/models/_utils.py:208: UserWarning: The parameter 'pretrained' is deprecated since 0.13 and may be removed in the future, please use 'weights' instead.\n",
            "  warnings.warn(\n",
            "/usr/local/lib/python3.11/dist-packages/torchvision/models/_utils.py:223: UserWarning: Arguments other than a weight enum or `None` for 'weights' are deprecated since 0.13 and may be removed in the future. The current behavior is equivalent to passing `weights=VGG16_Weights.IMAGENET1K_V1`. You can also use `weights=VGG16_Weights.DEFAULT` to get the most up-to-date weights.\n",
            "  warnings.warn(msg)\n",
            "Downloading: \"https://download.pytorch.org/models/vgg16-397923af.pth\" to /root/.cache/torch/hub/checkpoints/vgg16-397923af.pth\n",
            "100%|██████████| 528M/528M [00:06<00:00, 81.7MB/s]\n"
          ]
        }
      ],
      "source": [
        "vgg16_pretrained = torchvision.models.vgg16(pretrained=True)\n",
        "vgg16_pretrained.classifier[6] = nn.Linear(4096, 100)  # Adapter à CIFAR-100\n",
        "vgg16_pretrained = vgg16_pretrained.to(device)\n"
      ]
    },
    {
      "cell_type": "code",
      "execution_count": 7,
      "metadata": {
        "id": "QYnkB069RYLj"
      },
      "outputs": [],
      "source": [
        "optimizer = torch.optim.SGD(vgg16_pretrained.parameters(), lr=0.01, momentum=0.9)\n",
        "criterion = nn.CrossEntropyLoss()\n"
      ]
    },
    {
      "cell_type": "code",
      "execution_count": 8,
      "metadata": {
        "colab": {
          "base_uri": "https://localhost:8080/"
        },
        "id": "seTmfHS7RaHZ",
        "outputId": "8c200a0a-3709-4a3a-f63b-49e7ee41db09"
      },
      "outputs": [
        {
          "output_type": "stream",
          "name": "stdout",
          "text": [
            "Epoch 1: Loss: 2.1822\n",
            "Epoch 2: Loss: 1.3598\n",
            "Epoch 3: Loss: 1.0325\n",
            "Epoch 4: Loss: 0.8033\n",
            "Epoch 5: Loss: 0.6144\n"
          ]
        }
      ],
      "source": [
        "number_of_epochs = 5\n",
        "\n",
        "for epoch in range(number_of_epochs):\n",
        "    running_loss = 0.0\n",
        "    for i, data in enumerate(train_loader, 0):\n",
        "        inputs, labels = data[0].to(device), data[1].to(device)\n",
        "\n",
        "        optimizer.zero_grad()\n",
        "        outputs = vgg16_pretrained(inputs)\n",
        "        loss = criterion(outputs, labels)\n",
        "        loss.backward()\n",
        "        optimizer.step()\n",
        "\n",
        "        running_loss += loss.item()\n",
        "\n",
        "    print(f'Epoch {epoch + 1}: Loss: {running_loss / len(train_loader):.4f}')\n"
      ]
    },
    {
      "cell_type": "code",
      "source": [
        "torch.save(vgg16_pretrained.state_dict(), 'vgg16_cifar100.pth')\n"
      ],
      "metadata": {
        "id": "UwbhsHnArScK"
      },
      "execution_count": 9,
      "outputs": []
    },
    {
      "cell_type": "code",
      "source": [
        "# Mettre le modèle en mode évaluation\n",
        "vgg16_pretrained.eval()\n",
        "\n",
        "correct, total = 0, 0\n",
        "\n",
        "# Désactiver le calcul des gradients pour économiser de la mémoire\n",
        "with torch.no_grad():\n",
        "    for data in test_loader:\n",
        "        images, labels = data[0].to(device), data[1].to(device)\n",
        "        outputs = vgg16_pretrained(images)\n",
        "        _, predicted = torch.max(outputs.data, 1)\n",
        "        total += labels.size(0)\n",
        "        correct += (predicted == labels).sum().item()\n",
        "\n",
        "# Affichage de la précision\n",
        "accuracy = 100 * correct / total\n",
        "print(f'Accuracy on test images: {accuracy:.2f}%')\n"
      ],
      "metadata": {
        "colab": {
          "base_uri": "https://localhost:8080/"
        },
        "id": "XV7hWnUIrXRl",
        "outputId": "bba7cdce-6da5-4a62-f4c6-c04d4cd7b40a"
      },
      "execution_count": 11,
      "outputs": [
        {
          "output_type": "stream",
          "name": "stdout",
          "text": [
            "Accuracy on test images: 67.67%\n"
          ]
        }
      ]
    },
    {
      "cell_type": "code",
      "source": [],
      "metadata": {
        "id": "NTFM8wWvrer5"
      },
      "execution_count": null,
      "outputs": []
    }
  ],
  "metadata": {
    "colab": {
      "provenance": [],
      "gpuType": "T4",
      "authorship_tag": "ABX9TyNZb4DJfLgGrUW4C/ssR1kB",
      "include_colab_link": true
    },
    "kernelspec": {
      "display_name": "Python 3",
      "name": "python3"
    },
    "language_info": {
      "name": "python"
    },
    "accelerator": "GPU"
  },
  "nbformat": 4,
  "nbformat_minor": 0
}